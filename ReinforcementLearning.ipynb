{
 "cells": [
  {
   "cell_type": "code",
   "execution_count": 21,
   "metadata": {},
   "outputs": [],
   "source": [
    "import pandas as pd\n",
    "import matplotlib.pyplot as plt\n",
    "from stable_baselines3.common.vec_env import DummyVecEnv\n",
    "from stable_baselines3 import A2C\n"
   ]
  },
  {
   "cell_type": "code",
   "execution_count": 19,
   "metadata": {},
   "outputs": [
    {
     "data": {
      "text/html": [
       "<div>\n",
       "<style scoped>\n",
       "    .dataframe tbody tr th:only-of-type {\n",
       "        vertical-align: middle;\n",
       "    }\n",
       "\n",
       "    .dataframe tbody tr th {\n",
       "        vertical-align: top;\n",
       "    }\n",
       "\n",
       "    .dataframe thead th {\n",
       "        text-align: right;\n",
       "    }\n",
       "</style>\n",
       "<table border=\"1\" class=\"dataframe\">\n",
       "  <thead>\n",
       "    <tr style=\"text-align: right;\">\n",
       "      <th></th>\n",
       "      <th>Abertura</th>\n",
       "      <th>Maxima</th>\n",
       "      <th>Minima</th>\n",
       "      <th>VWAP D</th>\n",
       "      <th>Fechamento</th>\n",
       "    </tr>\n",
       "    <tr>\n",
       "      <th>Data</th>\n",
       "      <th></th>\n",
       "      <th></th>\n",
       "      <th></th>\n",
       "      <th></th>\n",
       "      <th></th>\n",
       "    </tr>\n",
       "  </thead>\n",
       "  <tbody>\n",
       "    <tr>\n",
       "      <th>2021-04-05 14:15:00</th>\n",
       "      <td>6646.88</td>\n",
       "      <td>6649.22</td>\n",
       "      <td>6632.25</td>\n",
       "      <td>6630.47</td>\n",
       "      <td>6636.93</td>\n",
       "    </tr>\n",
       "    <tr>\n",
       "      <th>2021-04-05 14:30:00</th>\n",
       "      <td>6636.35</td>\n",
       "      <td>6652.14</td>\n",
       "      <td>6635.18</td>\n",
       "      <td>6630.88</td>\n",
       "      <td>6650.39</td>\n",
       "    </tr>\n",
       "    <tr>\n",
       "      <th>2021-04-05 14:45:00</th>\n",
       "      <td>6650.39</td>\n",
       "      <td>6652.73</td>\n",
       "      <td>6632.84</td>\n",
       "      <td>6631.24</td>\n",
       "      <td>6635.18</td>\n",
       "    </tr>\n",
       "    <tr>\n",
       "      <th>2021-04-05 15:00:00</th>\n",
       "      <td>6635.18</td>\n",
       "      <td>6646.88</td>\n",
       "      <td>6635.18</td>\n",
       "      <td>6631.58</td>\n",
       "      <td>6643.37</td>\n",
       "    </tr>\n",
       "    <tr>\n",
       "      <th>2021-04-05 15:15:00</th>\n",
       "      <td>6642.78</td>\n",
       "      <td>6646.88</td>\n",
       "      <td>6635.76</td>\n",
       "      <td>6631.81</td>\n",
       "      <td>6645.71</td>\n",
       "    </tr>\n",
       "  </tbody>\n",
       "</table>\n",
       "</div>"
      ],
      "text/plain": [
       "                     Abertura   Maxima   Minima   VWAP D  Fechamento\n",
       "Data                                                                \n",
       "2021-04-05 14:15:00   6646.88  6649.22  6632.25  6630.47     6636.93\n",
       "2021-04-05 14:30:00   6636.35  6652.14  6635.18  6630.88     6650.39\n",
       "2021-04-05 14:45:00   6650.39  6652.73  6632.84  6631.24     6635.18\n",
       "2021-04-05 15:00:00   6635.18  6646.88  6635.18  6631.58     6643.37\n",
       "2021-04-05 15:15:00   6642.78  6646.88  6635.76  6631.81     6645.71"
      ]
     },
     "execution_count": 19,
     "metadata": {},
     "output_type": "execute_result"
    }
   ],
   "source": [
    "df = pd.read_csv('15min_timeseries.csv')\n",
    "df['Data'] = pd.to_datetime(df['Data'], format='%d/%m/%Y %H:%M')\n",
    "df.set_index('Data', inplace=True)\n",
    "df.head(5)"
   ]
  },
  {
   "cell_type": "code",
   "execution_count": 23,
   "metadata": {},
   "outputs": [
    {
     "ename": "NotImplementedError",
     "evalue": "",
     "output_type": "error",
     "traceback": [
      "\u001b[1;31m---------------------------------------------------------------------------\u001b[0m",
      "\u001b[1;31mNotImplementedError\u001b[0m                       Traceback (most recent call last)",
      "Cell \u001b[1;32mIn[23], line 1\u001b[0m\n\u001b[1;32m----> 1\u001b[0m env \u001b[39m=\u001b[39m DummyVecEnv([\u001b[39mlambda\u001b[39;49;00m: TradingEnv(df, \u001b[39m5\u001b[39;49m)])\n\u001b[0;32m      2\u001b[0m model \u001b[39m=\u001b[39m A2C(\u001b[39m\"\u001b[39m\u001b[39mMlpPolicy\u001b[39m\u001b[39m\"\u001b[39m, env, verbose\u001b[39m=\u001b[39m\u001b[39m1\u001b[39m)\n\u001b[0;32m      3\u001b[0m model\u001b[39m.\u001b[39mlearn(total_timesteps\u001b[39m=\u001b[39m\u001b[39m10_000\u001b[39m)\n",
      "File \u001b[1;32mc:\\Users\\andre\\Documents\\AI_trading\\.venv\\lib\\site-packages\\stable_baselines3\\common\\vec_env\\dummy_vec_env.py:30\u001b[0m, in \u001b[0;36mDummyVecEnv.__init__\u001b[1;34m(self, env_fns)\u001b[0m\n\u001b[0;32m     29\u001b[0m \u001b[39mdef\u001b[39;00m \u001b[39m__init__\u001b[39m(\u001b[39mself\u001b[39m, env_fns: List[Callable[[], gym\u001b[39m.\u001b[39mEnv]]):\n\u001b[1;32m---> 30\u001b[0m     \u001b[39mself\u001b[39m\u001b[39m.\u001b[39menvs \u001b[39m=\u001b[39m [_patch_env(fn()) \u001b[39mfor\u001b[39;00m fn \u001b[39min\u001b[39;00m env_fns]\n\u001b[0;32m     31\u001b[0m     \u001b[39mif\u001b[39;00m \u001b[39mlen\u001b[39m(\u001b[39mset\u001b[39m([\u001b[39mid\u001b[39m(env\u001b[39m.\u001b[39munwrapped) \u001b[39mfor\u001b[39;00m env \u001b[39min\u001b[39;00m \u001b[39mself\u001b[39m\u001b[39m.\u001b[39menvs])) \u001b[39m!=\u001b[39m \u001b[39mlen\u001b[39m(\u001b[39mself\u001b[39m\u001b[39m.\u001b[39menvs):\n\u001b[0;32m     32\u001b[0m         \u001b[39mraise\u001b[39;00m \u001b[39mValueError\u001b[39;00m(\n\u001b[0;32m     33\u001b[0m             \u001b[39m\"\u001b[39m\u001b[39mYou tried to create multiple environments, but the function to create them returned the same instance \u001b[39m\u001b[39m\"\u001b[39m\n\u001b[0;32m     34\u001b[0m             \u001b[39m\"\u001b[39m\u001b[39minstead of creating different objects. \u001b[39m\u001b[39m\"\u001b[39m\n\u001b[1;32m   (...)\u001b[0m\n\u001b[0;32m     39\u001b[0m             \u001b[39m\"\u001b[39m\u001b[39mPlease read https://github.com/DLR-RM/stable-baselines3/issues/1151 for more information.\u001b[39m\u001b[39m\"\u001b[39m\n\u001b[0;32m     40\u001b[0m         )\n",
      "File \u001b[1;32mc:\\Users\\andre\\Documents\\AI_trading\\.venv\\lib\\site-packages\\stable_baselines3\\common\\vec_env\\dummy_vec_env.py:30\u001b[0m, in \u001b[0;36m<listcomp>\u001b[1;34m(.0)\u001b[0m\n\u001b[0;32m     29\u001b[0m \u001b[39mdef\u001b[39;00m \u001b[39m__init__\u001b[39m(\u001b[39mself\u001b[39m, env_fns: List[Callable[[], gym\u001b[39m.\u001b[39mEnv]]):\n\u001b[1;32m---> 30\u001b[0m     \u001b[39mself\u001b[39m\u001b[39m.\u001b[39menvs \u001b[39m=\u001b[39m [_patch_env(fn()) \u001b[39mfor\u001b[39;00m fn \u001b[39min\u001b[39;00m env_fns]\n\u001b[0;32m     31\u001b[0m     \u001b[39mif\u001b[39;00m \u001b[39mlen\u001b[39m(\u001b[39mset\u001b[39m([\u001b[39mid\u001b[39m(env\u001b[39m.\u001b[39munwrapped) \u001b[39mfor\u001b[39;00m env \u001b[39min\u001b[39;00m \u001b[39mself\u001b[39m\u001b[39m.\u001b[39menvs])) \u001b[39m!=\u001b[39m \u001b[39mlen\u001b[39m(\u001b[39mself\u001b[39m\u001b[39m.\u001b[39menvs):\n\u001b[0;32m     32\u001b[0m         \u001b[39mraise\u001b[39;00m \u001b[39mValueError\u001b[39;00m(\n\u001b[0;32m     33\u001b[0m             \u001b[39m\"\u001b[39m\u001b[39mYou tried to create multiple environments, but the function to create them returned the same instance \u001b[39m\u001b[39m\"\u001b[39m\n\u001b[0;32m     34\u001b[0m             \u001b[39m\"\u001b[39m\u001b[39minstead of creating different objects. \u001b[39m\u001b[39m\"\u001b[39m\n\u001b[1;32m   (...)\u001b[0m\n\u001b[0;32m     39\u001b[0m             \u001b[39m\"\u001b[39m\u001b[39mPlease read https://github.com/DLR-RM/stable-baselines3/issues/1151 for more information.\u001b[39m\u001b[39m\"\u001b[39m\n\u001b[0;32m     40\u001b[0m         )\n",
      "Cell \u001b[1;32mIn[23], line 1\u001b[0m, in \u001b[0;36m<lambda>\u001b[1;34m()\u001b[0m\n\u001b[1;32m----> 1\u001b[0m env \u001b[39m=\u001b[39m DummyVecEnv([\u001b[39mlambda\u001b[39;00m: TradingEnv(df, \u001b[39m5\u001b[39;49m)])\n\u001b[0;32m      2\u001b[0m model \u001b[39m=\u001b[39m A2C(\u001b[39m\"\u001b[39m\u001b[39mMlpPolicy\u001b[39m\u001b[39m\"\u001b[39m, env, verbose\u001b[39m=\u001b[39m\u001b[39m1\u001b[39m)\n\u001b[0;32m      3\u001b[0m model\u001b[39m.\u001b[39mlearn(total_timesteps\u001b[39m=\u001b[39m\u001b[39m10_000\u001b[39m)\n",
      "File \u001b[1;32mc:\\Users\\andre\\Documents\\AI_trading\\envs\\trading_env.py:31\u001b[0m, in \u001b[0;36mTradingEnv.__init__\u001b[1;34m(self, df, window_size)\u001b[0m\n\u001b[0;32m     29\u001b[0m \u001b[39mself\u001b[39m\u001b[39m.\u001b[39mdf \u001b[39m=\u001b[39m df\n\u001b[0;32m     30\u001b[0m \u001b[39mself\u001b[39m\u001b[39m.\u001b[39mwindow_size \u001b[39m=\u001b[39m window_size\n\u001b[1;32m---> 31\u001b[0m \u001b[39mself\u001b[39m\u001b[39m.\u001b[39mprices, \u001b[39mself\u001b[39m\u001b[39m.\u001b[39msignal_features \u001b[39m=\u001b[39m \u001b[39mself\u001b[39;49m\u001b[39m.\u001b[39;49m_process_data()\n\u001b[0;32m     32\u001b[0m \u001b[39mself\u001b[39m\u001b[39m.\u001b[39mshape \u001b[39m=\u001b[39m (window_size, \u001b[39mself\u001b[39m\u001b[39m.\u001b[39msignal_features\u001b[39m.\u001b[39mshape[\u001b[39m1\u001b[39m])\n\u001b[0;32m     34\u001b[0m \u001b[39m# spaces\u001b[39;00m\n",
      "File \u001b[1;32mc:\\Users\\andre\\Documents\\AI_trading\\envs\\trading_env.py:172\u001b[0m, in \u001b[0;36mTradingEnv._process_data\u001b[1;34m(self)\u001b[0m\n\u001b[0;32m    171\u001b[0m \u001b[39mdef\u001b[39;00m \u001b[39m_process_data\u001b[39m(\u001b[39mself\u001b[39m):\n\u001b[1;32m--> 172\u001b[0m     \u001b[39mraise\u001b[39;00m \u001b[39mNotImplementedError\u001b[39;00m\n",
      "\u001b[1;31mNotImplementedError\u001b[0m: "
     ]
    }
   ],
   "source": [
    "env = DummyVecEnv([lambda: TradingEnv(df, 5)])\n",
    "model = A2C(\"MlpPolicy\", env, verbose=1)\n",
    "model.learn(total_timesteps=10_000)\n",
    "vec_env = model.get_env()\n",
    "obs = vec_env.reset()\n",
    "for i in range(1000):\n",
    "    action, _state = model.predict(obs, deterministic=True)\n",
    "    obs, reward, done, info = vec_env.step(action)\n",
    "    #vec_env.render(\"human\")\n",
    "    # VecEnv resets automatically\n",
    "    # if done:\n",
    "    #   obs = vec_env.reset()\n",
    "\n",
    "plt.figure(figsize=(15,6))\n",
    "plt.cla()\n",
    "env.render_all()\n",
    "plt.show()"
   ]
  }
 ],
 "metadata": {
  "kernelspec": {
   "display_name": ".venv",
   "language": "python",
   "name": "python3"
  },
  "language_info": {
   "codemirror_mode": {
    "name": "ipython",
    "version": 3
   },
   "file_extension": ".py",
   "mimetype": "text/x-python",
   "name": "python",
   "nbconvert_exporter": "python",
   "pygments_lexer": "ipython3",
   "version": "3.10.11"
  },
  "orig_nbformat": 4
 },
 "nbformat": 4,
 "nbformat_minor": 2
}
